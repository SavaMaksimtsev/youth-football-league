{
 "cells": [
  {
   "cell_type": "code",
   "execution_count": null,
   "id": "84612300-65c0-4d81-ad14-c69e628c9c50",
   "metadata": {},
   "outputs": [],
   "source": [
    "import logging\n",
    "from telegram import Update\n",
    "from telegram.ext import ApplicationBuilder, CommandHandler, ContextTypes\n",
    "import schedule\n",
    "import time\n",
    "import asyncio\n",
    "import threading\n",
    "\n",
    "logging.basicConfig(format='%(asctime)s - %(name)s - %(levelname)s - %(message)s', level=logging.INFO)\n",
    "logger = logging.getLogger(__name__)\n",
    "\n",
    "users = set()\n",
    "\n",
    "async def send_daily_message(context: ContextTypes.DEFAULT_TYPE):\n",
    "    for user_id in users:\n",
    "        await context.bot.send_message(chat_id=user_id, text=\"Привет! Не забудь заполнить опросник по самочувствию: https://docs.google.com/forms/d/e/1FAIpQLSftzDg_FIBpE-A6yP9grZzGRTWpjk9tVALxUWteEz2LGc-CLA/viewform?vc=0&c=0&w=1&flr=0\")\n",
    "\n",
    "async def start(update: Update, context: ContextTypes.DEFAULT_TYPE) -> None:\n",
    "    user_id = update.message.chat_id\n",
    "    users.add(user_id)\n",
    "    await update.message.reply_text(\"Привет! Это бот, который напоминает о том, что нужно заполнять опросник по самочувствию. Теперь каждое утро в 11 часов ты будешь получать сообщение со ссылкой\")\n",
    "\n",
    "def run_scheduler(application: ApplicationBuilder):\n",
    "    while True:\n",
    "        schedule.run_pending()\n",
    "        time.sleep(1)\n",
    "\n",
    "def schedule_daily_message(application: ApplicationBuilder):\n",
    "    schedule.every().day.at(\"11:00\").do(lambda: asyncio.run(send_daily_message(application)))\n",
    "    \n",
    "def main():\n",
    "    application = ApplicationBuilder().token(\"TOKEN\").build()\n",
    "    application.add_handler(CommandHandler(\"start\", start))\n",
    "    threading.Thread(target=run_scheduler, args=(application,), daemon=True).start()\n",
    "    schedule_daily_message(application)\n",
    "    application.run_polling()\n",
    "\n",
    "if __name__ == '__main__':\n",
    "    main()"
   ]
  }
 ],
 "metadata": {
  "kernelspec": {
   "display_name": "Python 3 (ipykernel)",
   "language": "python",
   "name": "python3"
  },
  "language_info": {
   "codemirror_mode": {
    "name": "ipython",
    "version": 3
   },
   "file_extension": ".py",
   "mimetype": "text/x-python",
   "name": "python",
   "nbconvert_exporter": "python",
   "pygments_lexer": "ipython3",
   "version": "3.12.8"
  }
 },
 "nbformat": 4,
 "nbformat_minor": 5
}
